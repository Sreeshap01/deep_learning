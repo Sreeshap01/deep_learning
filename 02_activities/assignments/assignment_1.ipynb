{
  "cells": [
    {
      "cell_type": "markdown",
      "source": [],
      "metadata": {
        "id": "bhAQLU2zG1ii"
      },
      "id": "bhAQLU2zG1ii"
    },
    {
      "cell_type": "markdown",
      "id": "ba8ab56f",
      "metadata": {
        "id": "ba8ab56f"
      },
      "source": [
        "# Advanced Image Classification with ImageNet"
      ]
    },
    {
      "cell_type": "markdown",
      "id": "7c630244b8fe2847",
      "metadata": {
        "collapsed": false,
        "id": "7c630244b8fe2847"
      },
      "source": [
        "In this assignment, you will be asked to develop a convolutional neural network (CNN) to classify images from the CIFAR-100 dataset. At each step, you'll be guided through the process of developing a model architecture to solve a problem. Your goal is to create a CNN that attains at least 55% accuracy on the validation set.\n",
        "\n",
        "### The CIFAR-100 Dataset\n",
        "\n",
        "The [CIFAR-100 dataset](https://www.cs.toronto.edu/~kriz/cifar.html) consists of 60000 32x32 colour images in 100 classes, with 600 images per class. There are 50000 training images and 10000 test images. The dataset is divided into five training batches and one test batch, each with 10000 images. The test batch contains exactly 1000 randomly-selected images from each class. The training batches contain the remaining images in random order, but some training batches may contain more images from one class than another. Between them, the training batches contain exactly 500 images from each class.\n",
        "\n",
        "### Tools\n",
        "\n",
        "You will use Keras with TensorFlow to develop your CNN. For this assignment, it's strongly recommended that you use a GPU to accelerate your training, or else you might find it difficult to train your network in a reasonable amount of time. If you have a computer with a GPU that you wish to use, you can follow the [TensorFlow instructions](https://www.tensorflow.org/install/) for installing TensorFlow with GPU support. Otherwise, you can use [Google Colab](https://colab.research.google.com/) to complete this assignment. Colab provides free access to GPU-enabled machines. If you run into any issues, please contact us as soon as possible so that we can help you resolve them."
      ]
    },
    {
      "cell_type": "markdown",
      "id": "fab62988ece1528d",
      "metadata": {
        "collapsed": false,
        "id": "fab62988ece1528d"
      },
      "source": [
        "## Task 1: Data Exploration and Preprocessing (Complete or Incomplete)\n",
        "### 1a: Load and Explore the Dataset\n",
        "- Use the code below to download the dataset.\n",
        "- Explore the dataset: examine the shape of the training and test sets, the dimensions of the images, and the number of classes. Show a few examples from the training set."
      ]
    },
    {
      "cell_type": "code",
      "execution_count": 3,
      "id": "8820fcdc5ae52ae2",
      "metadata": {
        "ExecuteTime": {
          "start_time": "2024-01-26T17:04:08.432758Z"
        },
        "is_executing": true,
        "id": "8820fcdc5ae52ae2"
      },
      "outputs": [],
      "source": [
        "from keras.datasets import cifar100\n",
        "\n",
        "# Load the CIFAR-100 dataset\n",
        "(x_train, y_train), (x_test, y_test) = cifar100.load_data(label_mode='fine')"
      ]
    },
    {
      "cell_type": "code",
      "execution_count": 4,
      "id": "a386b4072078138f",
      "metadata": {
        "id": "a386b4072078138f"
      },
      "outputs": [],
      "source": [
        "class_names = [\n",
        "    \"apple\", \"aquarium_fish\", \"baby\", \"bear\", \"beaver\", \"bed\", \"bee\", \"beetle\", \"bicycle\", \"bottle\",\n",
        "    \"bowl\", \"boy\", \"bridge\", \"bus\", \"butterfly\", \"camel\", \"can\", \"castle\", \"caterpillar\", \"cattle\",\n",
        "    \"chair\", \"chimpanzee\", \"clock\", \"cloud\", \"cockroach\", \"couch\", \"crab\", \"crocodile\", \"cup\", \"dinosaur\",\n",
        "    \"dolphin\", \"elephant\", \"flatfish\", \"forest\", \"fox\", \"girl\", \"hamster\", \"house\", \"kangaroo\", \"keyboard\",\n",
        "    \"lamp\", \"lawn_mower\", \"leopard\", \"lion\", \"lizard\", \"lobster\", \"man\", \"maple_tree\", \"motorcycle\", \"mountain\",\n",
        "    \"mouse\", \"mushroom\", \"oak_tree\", \"orange\", \"orchid\", \"otter\", \"palm_tree\", \"pear\", \"pickup_truck\", \"pine_tree\",\n",
        "    \"plain\", \"plate\", \"poppy\", \"porcupine\", \"possum\", \"rabbit\", \"raccoon\", \"ray\", \"road\", \"rocket\",\n",
        "    \"rose\", \"sea\", \"seal\", \"shark\", \"shrew\", \"skunk\", \"skyscraper\", \"snail\", \"snake\", \"spider\",\n",
        "    \"squirrel\", \"streetcar\", \"sunflower\", \"sweet_pepper\", \"table\", \"tank\", \"telephone\", \"television\", \"tiger\", \"tractor\",\n",
        "    \"train\", \"trout\", \"tulip\", \"turtle\", \"wardrobe\", \"whale\", \"willow_tree\", \"wolf\", \"woman\", \"worm\"\n",
        "]"
      ]
    },
    {
      "cell_type": "code",
      "execution_count": 5,
      "id": "36ca8354",
      "metadata": {
        "id": "36ca8354",
        "outputId": "e81aa43d-d38b-4e36-d9bc-cea856d10f20",
        "colab": {
          "base_uri": "https://localhost:8080/"
        }
      },
      "outputs": [
        {
          "output_type": "stream",
          "name": "stdout",
          "text": [
            "x_train shape: (50000, 32, 32, 3)\n",
            "y_train shape: (50000, 1)\n",
            "x_test shape: (10000, 32, 32, 3)\n",
            "y_test shape: (10000, 1)\n"
          ]
        }
      ],
      "source": [
        "# Shape of the training and testing datasets\n",
        "print(f'x_train shape: {x_train.shape}')\n",
        "print(f'y_train shape: {y_train.shape}')\n",
        "print(f'x_test shape: {x_test.shape}')\n",
        "print(f'y_test shape: {y_test.shape}')"
      ]
    },
    {
      "cell_type": "code",
      "source": [
        "len(class_names)"
      ],
      "metadata": {
        "id": "FyVci5ymawmx",
        "outputId": "fce8ca4a-78be-4703-b229-221d6a0eb9c7",
        "colab": {
          "base_uri": "https://localhost:8080/"
        }
      },
      "id": "FyVci5ymawmx",
      "execution_count": 6,
      "outputs": [
        {
          "output_type": "execute_result",
          "data": {
            "text/plain": [
              "100"
            ]
          },
          "metadata": {},
          "execution_count": 6
        }
      ]
    },
    {
      "cell_type": "code",
      "source": [
        "x_test[0]"
      ],
      "metadata": {
        "id": "cYKlGwfgZmU-",
        "outputId": "794d6f04-1cb6-44ca-b699-f96c3f4b0106",
        "colab": {
          "base_uri": "https://localhost:8080/",
          "height": 72
        }
      },
      "id": "cYKlGwfgZmU-",
      "execution_count": 7,
      "outputs": [
        {
          "output_type": "execute_result",
          "data": {
            "text/plain": [
              "array([[[199, 215, 249],\n",
              "        [196, 211, 244],\n",
              "        [195, 210, 243],\n",
              "        ...,\n",
              "        [216, 231, 250],\n",
              "        [217, 231, 250],\n",
              "        [224, 234, 252]],\n",
              "\n",
              "       [[197, 210, 239],\n",
              "        [195, 208, 238],\n",
              "        [195, 210, 240],\n",
              "        ...,\n",
              "        [231, 243, 250],\n",
              "        [233, 243, 250],\n",
              "        [241, 245, 253]],\n",
              "\n",
              "       [[222, 226, 246],\n",
              "        [213, 220, 242],\n",
              "        [209, 219, 243],\n",
              "        ...,\n",
              "        [243, 250, 251],\n",
              "        [244, 249, 251],\n",
              "        [250, 250, 253]],\n",
              "\n",
              "       ...,\n",
              "\n",
              "       [[ 72,  73,  99],\n",
              "        [ 71,  74, 102],\n",
              "        [ 74,  78, 108],\n",
              "        ...,\n",
              "        [220, 208, 217],\n",
              "        [183, 168, 181],\n",
              "        [155, 141, 150]],\n",
              "\n",
              "       [[ 72,  75, 104],\n",
              "        [ 76,  81, 111],\n",
              "        [ 84,  89, 122],\n",
              "        ...,\n",
              "        [222, 212, 220],\n",
              "        [187, 174, 192],\n",
              "        [145, 132, 149]],\n",
              "\n",
              "       [[ 80,  85, 118],\n",
              "        [ 84,  90, 123],\n",
              "        [ 85,  92, 127],\n",
              "        ...,\n",
              "        [217, 207, 215],\n",
              "        [207, 194, 211],\n",
              "        [176, 164, 183]]], dtype=uint8)"
            ],
            "text/html": [
              "<style>\n",
              "      .ndarray_repr .ndarray_raw_data {\n",
              "        display: none;\n",
              "      }\n",
              "      .ndarray_repr.show_array .ndarray_raw_data {\n",
              "        display: block;\n",
              "      }\n",
              "      .ndarray_repr.show_array .ndarray_image_preview {\n",
              "        display: none;\n",
              "      }\n",
              "      </style>\n",
              "      <div id=\"id-4dc2aebf-4e03-49b8-98f0-31f8790fb393\" class=\"ndarray_repr\"><pre>ndarray (32, 32, 3) <button style=\"padding: 0 2px;\">show data</button></pre><img src=\"data:image/png;base64,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\" class=\"ndarray_image_preview\" /><pre class=\"ndarray_raw_data\">array([[[199, 215, 249],\n",
              "        [196, 211, 244],\n",
              "        [195, 210, 243],\n",
              "        ...,\n",
              "        [216, 231, 250],\n",
              "        [217, 231, 250],\n",
              "        [224, 234, 252]],\n",
              "\n",
              "       [[197, 210, 239],\n",
              "        [195, 208, 238],\n",
              "        [195, 210, 240],\n",
              "        ...,\n",
              "        [231, 243, 250],\n",
              "        [233, 243, 250],\n",
              "        [241, 245, 253]],\n",
              "\n",
              "       [[222, 226, 246],\n",
              "        [213, 220, 242],\n",
              "        [209, 219, 243],\n",
              "        ...,\n",
              "        [243, 250, 251],\n",
              "        [244, 249, 251],\n",
              "        [250, 250, 253]],\n",
              "\n",
              "       ...,\n",
              "\n",
              "       [[ 72,  73,  99],\n",
              "        [ 71,  74, 102],\n",
              "        [ 74,  78, 108],\n",
              "        ...,\n",
              "        [220, 208, 217],\n",
              "        [183, 168, 181],\n",
              "        [155, 141, 150]],\n",
              "\n",
              "       [[ 72,  75, 104],\n",
              "        [ 76,  81, 111],\n",
              "        [ 84,  89, 122],\n",
              "        ...,\n",
              "        [222, 212, 220],\n",
              "        [187, 174, 192],\n",
              "        [145, 132, 149]],\n",
              "\n",
              "       [[ 80,  85, 118],\n",
              "        [ 84,  90, 123],\n",
              "        [ 85,  92, 127],\n",
              "        ...,\n",
              "        [217, 207, 215],\n",
              "        [207, 194, 211],\n",
              "        [176, 164, 183]]], dtype=uint8)</pre></div><script>\n",
              "      (() => {\n",
              "      const titles = ['show data', 'hide data'];\n",
              "      let index = 0\n",
              "      document.querySelector('#id-4dc2aebf-4e03-49b8-98f0-31f8790fb393 button').onclick = (e) => {\n",
              "        document.querySelector('#id-4dc2aebf-4e03-49b8-98f0-31f8790fb393').classList.toggle('show_array');\n",
              "        index = (++index) % 2;\n",
              "        document.querySelector('#id-4dc2aebf-4e03-49b8-98f0-31f8790fb393 button').textContent = titles[index];\n",
              "        e.preventDefault();\n",
              "        e.stopPropagation();\n",
              "      }\n",
              "      })();\n",
              "    </script>"
            ]
          },
          "metadata": {},
          "execution_count": 7
        }
      ]
    },
    {
      "cell_type": "code",
      "source": [
        "x_test[5000]"
      ],
      "metadata": {
        "id": "7qfemR4kafmd",
        "outputId": "9a723700-2ada-490f-9a42-79813ba65186",
        "colab": {
          "base_uri": "https://localhost:8080/",
          "height": 72
        }
      },
      "id": "7qfemR4kafmd",
      "execution_count": 8,
      "outputs": [
        {
          "output_type": "execute_result",
          "data": {
            "text/plain": [
              "array([[[102, 147, 155],\n",
              "        [106, 157, 168],\n",
              "        [101, 155, 169],\n",
              "        ...,\n",
              "        [ 99, 134, 157],\n",
              "        [103, 138, 159],\n",
              "        [101, 136, 157]],\n",
              "\n",
              "       [[ 87, 115, 125],\n",
              "        [100, 139, 156],\n",
              "        [106, 150, 172],\n",
              "        ...,\n",
              "        [104, 129, 145],\n",
              "        [106, 140, 158],\n",
              "        [105, 140, 159]],\n",
              "\n",
              "       [[ 78,  90,  96],\n",
              "        [ 97, 112, 119],\n",
              "        [116, 130, 138],\n",
              "        ...,\n",
              "        [102, 125, 137],\n",
              "        [112, 147, 162],\n",
              "        [113, 149, 164]],\n",
              "\n",
              "       ...,\n",
              "\n",
              "       [[ 42,  34,  31],\n",
              "        [ 36,  28,  24],\n",
              "        [ 36,  30,  25],\n",
              "        ...,\n",
              "        [143, 140, 114],\n",
              "        [142, 141, 111],\n",
              "        [142, 141, 111]],\n",
              "\n",
              "       [[ 59,  52,  39],\n",
              "        [ 59,  53,  40],\n",
              "        [ 67,  64,  50],\n",
              "        ...,\n",
              "        [ 93,  90,  76],\n",
              "        [ 87,  85,  70],\n",
              "        [ 84,  82,  67]],\n",
              "\n",
              "       [[ 64,  59,  44],\n",
              "        [ 80,  77,  58],\n",
              "        [ 89,  87,  68],\n",
              "        ...,\n",
              "        [ 59,  56,  51],\n",
              "        [ 59,  55,  51],\n",
              "        [ 67,  63,  56]]], dtype=uint8)"
            ],
            "text/html": [
              "<style>\n",
              "      .ndarray_repr .ndarray_raw_data {\n",
              "        display: none;\n",
              "      }\n",
              "      .ndarray_repr.show_array .ndarray_raw_data {\n",
              "        display: block;\n",
              "      }\n",
              "      .ndarray_repr.show_array .ndarray_image_preview {\n",
              "        display: none;\n",
              "      }\n",
              "      </style>\n",
              "      <div id=\"id-316c001b-6387-400b-bf78-458f5a919dbf\" class=\"ndarray_repr\"><pre>ndarray (32, 32, 3) <button style=\"padding: 0 2px;\">show data</button></pre><img src=\"data:image/png;base64,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\" class=\"ndarray_image_preview\" /><pre class=\"ndarray_raw_data\">array([[[102, 147, 155],\n",
              "        [106, 157, 168],\n",
              "        [101, 155, 169],\n",
              "        ...,\n",
              "        [ 99, 134, 157],\n",
              "        [103, 138, 159],\n",
              "        [101, 136, 157]],\n",
              "\n",
              "       [[ 87, 115, 125],\n",
              "        [100, 139, 156],\n",
              "        [106, 150, 172],\n",
              "        ...,\n",
              "        [104, 129, 145],\n",
              "        [106, 140, 158],\n",
              "        [105, 140, 159]],\n",
              "\n",
              "       [[ 78,  90,  96],\n",
              "        [ 97, 112, 119],\n",
              "        [116, 130, 138],\n",
              "        ...,\n",
              "        [102, 125, 137],\n",
              "        [112, 147, 162],\n",
              "        [113, 149, 164]],\n",
              "\n",
              "       ...,\n",
              "\n",
              "       [[ 42,  34,  31],\n",
              "        [ 36,  28,  24],\n",
              "        [ 36,  30,  25],\n",
              "        ...,\n",
              "        [143, 140, 114],\n",
              "        [142, 141, 111],\n",
              "        [142, 141, 111]],\n",
              "\n",
              "       [[ 59,  52,  39],\n",
              "        [ 59,  53,  40],\n",
              "        [ 67,  64,  50],\n",
              "        ...,\n",
              "        [ 93,  90,  76],\n",
              "        [ 87,  85,  70],\n",
              "        [ 84,  82,  67]],\n",
              "\n",
              "       [[ 64,  59,  44],\n",
              "        [ 80,  77,  58],\n",
              "        [ 89,  87,  68],\n",
              "        ...,\n",
              "        [ 59,  56,  51],\n",
              "        [ 59,  55,  51],\n",
              "        [ 67,  63,  56]]], dtype=uint8)</pre></div><script>\n",
              "      (() => {\n",
              "      const titles = ['show data', 'hide data'];\n",
              "      let index = 0\n",
              "      document.querySelector('#id-316c001b-6387-400b-bf78-458f5a919dbf button').onclick = (e) => {\n",
              "        document.querySelector('#id-316c001b-6387-400b-bf78-458f5a919dbf').classList.toggle('show_array');\n",
              "        index = (++index) % 2;\n",
              "        document.querySelector('#id-316c001b-6387-400b-bf78-458f5a919dbf button').textContent = titles[index];\n",
              "        e.preventDefault();\n",
              "        e.stopPropagation();\n",
              "      }\n",
              "      })();\n",
              "    </script>"
            ]
          },
          "metadata": {},
          "execution_count": 8
        }
      ]
    },
    {
      "cell_type": "code",
      "source": [
        "x_test[9999]"
      ],
      "metadata": {
        "id": "TarK9CIPak9R",
        "outputId": "5f583650-854d-405d-c951-2c12de770f36",
        "colab": {
          "base_uri": "https://localhost:8080/",
          "height": 72
        }
      },
      "id": "TarK9CIPak9R",
      "execution_count": 9,
      "outputs": [
        {
          "output_type": "execute_result",
          "data": {
            "text/plain": [
              "array([[[246, 246, 242],\n",
              "        [240, 238, 232],\n",
              "        [214, 212, 199],\n",
              "        ...,\n",
              "        [ 74,  32,  35],\n",
              "        [ 77,  34,  37],\n",
              "        [ 81,  34,  35]],\n",
              "\n",
              "       [[210, 205, 196],\n",
              "        [243, 240, 230],\n",
              "        [229, 225, 214],\n",
              "        ...,\n",
              "        [ 75,  33,  35],\n",
              "        [ 79,  35,  38],\n",
              "        [ 83,  34,  36]],\n",
              "\n",
              "       [[144, 134, 112],\n",
              "        [175, 163, 144],\n",
              "        [158, 144, 130],\n",
              "        ...,\n",
              "        [ 74,  33,  35],\n",
              "        [ 79,  35,  38],\n",
              "        [ 82,  33,  36]],\n",
              "\n",
              "       ...,\n",
              "\n",
              "       [[198, 190, 176],\n",
              "        [111, 111,  66],\n",
              "        [ 58,  55,  27],\n",
              "        ...,\n",
              "        [ 62,  81,  41],\n",
              "        [ 72, 100,  41],\n",
              "        [ 80, 107,  49]],\n",
              "\n",
              "       [[167, 160, 144],\n",
              "        [ 62,  64,  27],\n",
              "        [ 85,  85,  68],\n",
              "        ...,\n",
              "        [ 92, 126,  58],\n",
              "        [143, 183, 104],\n",
              "        [160, 199, 118]],\n",
              "\n",
              "       [[115, 108,  94],\n",
              "        [ 42,  37,  21],\n",
              "        [139, 136, 127],\n",
              "        ...,\n",
              "        [139, 172, 114],\n",
              "        [167, 204, 141],\n",
              "        [146, 182, 118]]], dtype=uint8)"
            ],
            "text/html": [
              "<style>\n",
              "      .ndarray_repr .ndarray_raw_data {\n",
              "        display: none;\n",
              "      }\n",
              "      .ndarray_repr.show_array .ndarray_raw_data {\n",
              "        display: block;\n",
              "      }\n",
              "      .ndarray_repr.show_array .ndarray_image_preview {\n",
              "        display: none;\n",
              "      }\n",
              "      </style>\n",
              "      <div id=\"id-1d4bee45-f0ab-469d-ada9-65b083d40323\" class=\"ndarray_repr\"><pre>ndarray (32, 32, 3) <button style=\"padding: 0 2px;\">show data</button></pre><img src=\"data:image/png;base64,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\" class=\"ndarray_image_preview\" /><pre class=\"ndarray_raw_data\">array([[[246, 246, 242],\n",
              "        [240, 238, 232],\n",
              "        [214, 212, 199],\n",
              "        ...,\n",
              "        [ 74,  32,  35],\n",
              "        [ 77,  34,  37],\n",
              "        [ 81,  34,  35]],\n",
              "\n",
              "       [[210, 205, 196],\n",
              "        [243, 240, 230],\n",
              "        [229, 225, 214],\n",
              "        ...,\n",
              "        [ 75,  33,  35],\n",
              "        [ 79,  35,  38],\n",
              "        [ 83,  34,  36]],\n",
              "\n",
              "       [[144, 134, 112],\n",
              "        [175, 163, 144],\n",
              "        [158, 144, 130],\n",
              "        ...,\n",
              "        [ 74,  33,  35],\n",
              "        [ 79,  35,  38],\n",
              "        [ 82,  33,  36]],\n",
              "\n",
              "       ...,\n",
              "\n",
              "       [[198, 190, 176],\n",
              "        [111, 111,  66],\n",
              "        [ 58,  55,  27],\n",
              "        ...,\n",
              "        [ 62,  81,  41],\n",
              "        [ 72, 100,  41],\n",
              "        [ 80, 107,  49]],\n",
              "\n",
              "       [[167, 160, 144],\n",
              "        [ 62,  64,  27],\n",
              "        [ 85,  85,  68],\n",
              "        ...,\n",
              "        [ 92, 126,  58],\n",
              "        [143, 183, 104],\n",
              "        [160, 199, 118]],\n",
              "\n",
              "       [[115, 108,  94],\n",
              "        [ 42,  37,  21],\n",
              "        [139, 136, 127],\n",
              "        ...,\n",
              "        [139, 172, 114],\n",
              "        [167, 204, 141],\n",
              "        [146, 182, 118]]], dtype=uint8)</pre></div><script>\n",
              "      (() => {\n",
              "      const titles = ['show data', 'hide data'];\n",
              "      let index = 0\n",
              "      document.querySelector('#id-1d4bee45-f0ab-469d-ada9-65b083d40323 button').onclick = (e) => {\n",
              "        document.querySelector('#id-1d4bee45-f0ab-469d-ada9-65b083d40323').classList.toggle('show_array');\n",
              "        index = (++index) % 2;\n",
              "        document.querySelector('#id-1d4bee45-f0ab-469d-ada9-65b083d40323 button').textContent = titles[index];\n",
              "        e.preventDefault();\n",
              "        e.stopPropagation();\n",
              "      }\n",
              "      })();\n",
              "    </script>"
            ]
          },
          "metadata": {},
          "execution_count": 9
        }
      ]
    },
    {
      "cell_type": "code",
      "source": [
        "x_train[0]"
      ],
      "metadata": {
        "id": "mXcKOPsufgPd",
        "outputId": "73feb465-8e33-45de-c801-e49adb062992",
        "colab": {
          "base_uri": "https://localhost:8080/",
          "height": 72
        }
      },
      "id": "mXcKOPsufgPd",
      "execution_count": 10,
      "outputs": [
        {
          "output_type": "execute_result",
          "data": {
            "text/plain": [
              "array([[[255, 255, 255],\n",
              "        [255, 255, 255],\n",
              "        [255, 255, 255],\n",
              "        ...,\n",
              "        [195, 205, 193],\n",
              "        [212, 224, 204],\n",
              "        [182, 194, 167]],\n",
              "\n",
              "       [[255, 255, 255],\n",
              "        [254, 254, 254],\n",
              "        [254, 254, 254],\n",
              "        ...,\n",
              "        [170, 176, 150],\n",
              "        [161, 168, 130],\n",
              "        [146, 154, 113]],\n",
              "\n",
              "       [[255, 255, 255],\n",
              "        [254, 254, 254],\n",
              "        [255, 255, 255],\n",
              "        ...,\n",
              "        [189, 199, 169],\n",
              "        [166, 178, 130],\n",
              "        [121, 133,  87]],\n",
              "\n",
              "       ...,\n",
              "\n",
              "       [[148, 185,  79],\n",
              "        [142, 182,  57],\n",
              "        [140, 179,  60],\n",
              "        ...,\n",
              "        [ 30,  17,   1],\n",
              "        [ 65,  62,  15],\n",
              "        [ 76,  77,  20]],\n",
              "\n",
              "       [[122, 157,  66],\n",
              "        [120, 155,  58],\n",
              "        [126, 160,  71],\n",
              "        ...,\n",
              "        [ 22,  16,   3],\n",
              "        [ 97, 112,  56],\n",
              "        [141, 161,  87]],\n",
              "\n",
              "       [[ 87, 122,  41],\n",
              "        [ 88, 122,  39],\n",
              "        [101, 134,  56],\n",
              "        ...,\n",
              "        [ 34,  36,  10],\n",
              "        [105, 133,  59],\n",
              "        [138, 173,  79]]], dtype=uint8)"
            ],
            "text/html": [
              "<style>\n",
              "      .ndarray_repr .ndarray_raw_data {\n",
              "        display: none;\n",
              "      }\n",
              "      .ndarray_repr.show_array .ndarray_raw_data {\n",
              "        display: block;\n",
              "      }\n",
              "      .ndarray_repr.show_array .ndarray_image_preview {\n",
              "        display: none;\n",
              "      }\n",
              "      </style>\n",
              "      <div id=\"id-a4ead671-6c25-405a-a010-293855cd146a\" class=\"ndarray_repr\"><pre>ndarray (32, 32, 3) <button style=\"padding: 0 2px;\">show data</button></pre><img src=\"data:image/png;base64,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\" class=\"ndarray_image_preview\" /><pre class=\"ndarray_raw_data\">array([[[255, 255, 255],\n",
              "        [255, 255, 255],\n",
              "        [255, 255, 255],\n",
              "        ...,\n",
              "        [195, 205, 193],\n",
              "        [212, 224, 204],\n",
              "        [182, 194, 167]],\n",
              "\n",
              "       [[255, 255, 255],\n",
              "        [254, 254, 254],\n",
              "        [254, 254, 254],\n",
              "        ...,\n",
              "        [170, 176, 150],\n",
              "        [161, 168, 130],\n",
              "        [146, 154, 113]],\n",
              "\n",
              "       [[255, 255, 255],\n",
              "        [254, 254, 254],\n",
              "        [255, 255, 255],\n",
              "        ...,\n",
              "        [189, 199, 169],\n",
              "        [166, 178, 130],\n",
              "        [121, 133,  87]],\n",
              "\n",
              "       ...,\n",
              "\n",
              "       [[148, 185,  79],\n",
              "        [142, 182,  57],\n",
              "        [140, 179,  60],\n",
              "        ...,\n",
              "        [ 30,  17,   1],\n",
              "        [ 65,  62,  15],\n",
              "        [ 76,  77,  20]],\n",
              "\n",
              "       [[122, 157,  66],\n",
              "        [120, 155,  58],\n",
              "        [126, 160,  71],\n",
              "        ...,\n",
              "        [ 22,  16,   3],\n",
              "        [ 97, 112,  56],\n",
              "        [141, 161,  87]],\n",
              "\n",
              "       [[ 87, 122,  41],\n",
              "        [ 88, 122,  39],\n",
              "        [101, 134,  56],\n",
              "        ...,\n",
              "        [ 34,  36,  10],\n",
              "        [105, 133,  59],\n",
              "        [138, 173,  79]]], dtype=uint8)</pre></div><script>\n",
              "      (() => {\n",
              "      const titles = ['show data', 'hide data'];\n",
              "      let index = 0\n",
              "      document.querySelector('#id-a4ead671-6c25-405a-a010-293855cd146a button').onclick = (e) => {\n",
              "        document.querySelector('#id-a4ead671-6c25-405a-a010-293855cd146a').classList.toggle('show_array');\n",
              "        index = (++index) % 2;\n",
              "        document.querySelector('#id-a4ead671-6c25-405a-a010-293855cd146a button').textContent = titles[index];\n",
              "        e.preventDefault();\n",
              "        e.stopPropagation();\n",
              "      }\n",
              "      })();\n",
              "    </script>"
            ]
          },
          "metadata": {},
          "execution_count": 10
        }
      ]
    },
    {
      "cell_type": "code",
      "source": [
        "class_names[51]"
      ],
      "metadata": {
        "id": "PdrknXLlgPOZ",
        "outputId": "d7405801-8f00-4787-a1e1-383b0afd93e9",
        "colab": {
          "base_uri": "https://localhost:8080/",
          "height": 35
        }
      },
      "id": "PdrknXLlgPOZ",
      "execution_count": 69,
      "outputs": [
        {
          "output_type": "execute_result",
          "data": {
            "text/plain": [
              "'mushroom'"
            ],
            "application/vnd.google.colaboratory.intrinsic+json": {
              "type": "string"
            }
          },
          "metadata": {},
          "execution_count": 69
        }
      ]
    },
    {
      "cell_type": "markdown",
      "id": "ad49291da3a819ea",
      "metadata": {
        "collapsed": false,
        "id": "ad49291da3a819ea"
      },
      "source": [
        "### 1b: Data Preprocessing\n",
        "- With the data downloaded, it's time to preprocess it. Start by normalizing the images so that they all have pixel values in the range [0, 1].\n",
        "- Next, convert the labels to one-hot encoded vectors.\n",
        "- Finally, split the training set into training and validation sets. Use 80% of the training set for training and the remaining 20% for validation."
      ]
    },
    {
      "cell_type": "code",
      "execution_count": 13,
      "id": "b18c10172fa72d0c",
      "metadata": {
        "id": "b18c10172fa72d0c"
      },
      "outputs": [],
      "source": [
        "# Normalize\n",
        "x_train = x_train.astype(\"float32\") / 255.0\n",
        "x_test = x_test.astype(\"float32\") / 255.0\n",
        "\n",
        "#x_train[0]\n",
        "#x_test[0]"
      ]
    },
    {
      "cell_type": "code",
      "source": [
        "# one-hot encoding\n",
        "from tensorflow.keras.utils import to_categorical\n",
        "\n",
        "print(f'Before one-hot encoding: {y_train[0]}')\n",
        "y_train = to_categorical(y_train, num_classes=100)\n",
        "y_test = to_categorical(y_test, num_classes=100)\n",
        "print(f'After one-hot encoding: {y_train[0]}')"
      ],
      "metadata": {
        "id": "D9RArewBbhCe",
        "outputId": "78aa5e4a-858a-4f4e-90c5-0e71e42c4ec0",
        "colab": {
          "base_uri": "https://localhost:8080/"
        }
      },
      "id": "D9RArewBbhCe",
      "execution_count": 14,
      "outputs": [
        {
          "output_type": "stream",
          "name": "stdout",
          "text": [
            "Before one-hot encoding: [19]\n",
            "After one-hot encoding: [0. 0. 0. 0. 0. 0. 0. 0. 0. 0. 0. 0. 0. 0. 0. 0. 0. 0. 0. 1. 0. 0. 0. 0.\n",
            " 0. 0. 0. 0. 0. 0. 0. 0. 0. 0. 0. 0. 0. 0. 0. 0. 0. 0. 0. 0. 0. 0. 0. 0.\n",
            " 0. 0. 0. 0. 0. 0. 0. 0. 0. 0. 0. 0. 0. 0. 0. 0. 0. 0. 0. 0. 0. 0. 0. 0.\n",
            " 0. 0. 0. 0. 0. 0. 0. 0. 0. 0. 0. 0. 0. 0. 0. 0. 0. 0. 0. 0. 0. 0. 0. 0.\n",
            " 0. 0. 0. 0.]\n"
          ]
        }
      ]
    },
    {
      "cell_type": "code",
      "source": [
        "from sklearn.model_selection import train_test_split\n",
        "# Split training data: 80% train, 20% validation\n",
        "x_train, x_val, y_train, y_val = train_test_split(x_train, y_train, test_size=0.2, random_state=42)"
      ],
      "metadata": {
        "id": "l0G7z5f2bkU9"
      },
      "id": "l0G7z5f2bkU9",
      "execution_count": 15,
      "outputs": []
    },
    {
      "cell_type": "code",
      "source": [
        "x_train.shape\n"
      ],
      "metadata": {
        "id": "cLHOMm8-iEty",
        "outputId": "3f99e54a-6732-4e41-b52f-e9d842a1c10b",
        "colab": {
          "base_uri": "https://localhost:8080/"
        }
      },
      "id": "cLHOMm8-iEty",
      "execution_count": 16,
      "outputs": [
        {
          "output_type": "execute_result",
          "data": {
            "text/plain": [
              "(40000, 32, 32, 3)"
            ]
          },
          "metadata": {},
          "execution_count": 16
        }
      ]
    },
    {
      "cell_type": "code",
      "source": [
        "x_val.shape"
      ],
      "metadata": {
        "id": "8-yJYjuZqP2o",
        "outputId": "5cb9d8e5-5c8a-4daa-b677-ceb2c5e7305a",
        "colab": {
          "base_uri": "https://localhost:8080/"
        }
      },
      "id": "8-yJYjuZqP2o",
      "execution_count": 17,
      "outputs": [
        {
          "output_type": "execute_result",
          "data": {
            "text/plain": [
              "(10000, 32, 32, 3)"
            ]
          },
          "metadata": {},
          "execution_count": 17
        }
      ]
    },
    {
      "cell_type": "code",
      "source": [
        "y_train.shape"
      ],
      "metadata": {
        "id": "ujruNDz3qTSG",
        "outputId": "f76a7008-20ef-440d-927d-ed9bd64fb31c",
        "colab": {
          "base_uri": "https://localhost:8080/"
        }
      },
      "id": "ujruNDz3qTSG",
      "execution_count": 18,
      "outputs": [
        {
          "output_type": "execute_result",
          "data": {
            "text/plain": [
              "(40000, 100)"
            ]
          },
          "metadata": {},
          "execution_count": 18
        }
      ]
    },
    {
      "cell_type": "code",
      "source": [
        "y_val.shape"
      ],
      "metadata": {
        "id": "PvRtDxvsqVn3",
        "outputId": "8c706f3f-ab66-4ab2-9dc1-e1918ea65eda",
        "colab": {
          "base_uri": "https://localhost:8080/"
        }
      },
      "id": "PvRtDxvsqVn3",
      "execution_count": 19,
      "outputs": [
        {
          "output_type": "execute_result",
          "data": {
            "text/plain": [
              "(10000, 100)"
            ]
          },
          "metadata": {},
          "execution_count": 19
        }
      ]
    },
    {
      "cell_type": "markdown",
      "id": "5993757f08c89db7",
      "metadata": {
        "collapsed": false,
        "id": "5993757f08c89db7"
      },
      "source": [
        "## Task 2: Model Development (Complete or Incomplete)\n",
        "### Task 2a: Create a Baseline CNN Model\n",
        "- Design a CNN architecture. Your architecture should use convolutional layers, max pooling layers, and dense layers. You can use any number of layers, and you can experiment with different numbers of filters, filter sizes, strides, padding, etc. The design doesn't need to be perfect, but it should be unique to you.\n",
        "- Print out the model summary."
      ]
    },
    {
      "cell_type": "code",
      "execution_count": 20,
      "id": "c9edafdaf887b8d5",
      "metadata": {
        "id": "c9edafdaf887b8d5",
        "colab": {
          "base_uri": "https://localhost:8080/",
          "height": 344
        },
        "outputId": "3de1b190-4e0c-446e-d390-03b1706b5d5b"
      },
      "outputs": [
        {
          "output_type": "stream",
          "name": "stderr",
          "text": [
            "/usr/local/lib/python3.11/dist-packages/keras/src/layers/convolutional/base_conv.py:107: UserWarning: Do not pass an `input_shape`/`input_dim` argument to a layer. When using Sequential models, prefer using an `Input(shape)` object as the first layer in the model instead.\n",
            "  super().__init__(activity_regularizer=activity_regularizer, **kwargs)\n"
          ]
        },
        {
          "output_type": "display_data",
          "data": {
            "text/plain": [
              "\u001b[1mModel: \"sequential\"\u001b[0m\n"
            ],
            "text/html": [
              "<pre style=\"white-space:pre;overflow-x:auto;line-height:normal;font-family:Menlo,'DejaVu Sans Mono',consolas,'Courier New',monospace\"><span style=\"font-weight: bold\">Model: \"sequential\"</span>\n",
              "</pre>\n"
            ]
          },
          "metadata": {}
        },
        {
          "output_type": "display_data",
          "data": {
            "text/plain": [
              "┏━━━━━━━━━━━━━━━━━━━━━━━━━━━━━━━━━━━━━━┳━━━━━━━━━━━━━━━━━━━━━━━━━━━━━┳━━━━━━━━━━━━━━━━━┓\n",
              "┃\u001b[1m \u001b[0m\u001b[1mLayer (type)                        \u001b[0m\u001b[1m \u001b[0m┃\u001b[1m \u001b[0m\u001b[1mOutput Shape               \u001b[0m\u001b[1m \u001b[0m┃\u001b[1m \u001b[0m\u001b[1m        Param #\u001b[0m\u001b[1m \u001b[0m┃\n",
              "┡━━━━━━━━━━━━━━━━━━━━━━━━━━━━━━━━━━━━━━╇━━━━━━━━━━━━━━━━━━━━━━━━━━━━━╇━━━━━━━━━━━━━━━━━┩\n",
              "│ conv2d (\u001b[38;5;33mConv2D\u001b[0m)                      │ (\u001b[38;5;45mNone\u001b[0m, \u001b[38;5;34m31\u001b[0m, \u001b[38;5;34m31\u001b[0m, \u001b[38;5;34m64\u001b[0m)          │             \u001b[38;5;34m832\u001b[0m │\n",
              "├──────────────────────────────────────┼─────────────────────────────┼─────────────────┤\n",
              "│ max_pooling2d (\u001b[38;5;33mMaxPooling2D\u001b[0m)         │ (\u001b[38;5;45mNone\u001b[0m, \u001b[38;5;34m15\u001b[0m, \u001b[38;5;34m15\u001b[0m, \u001b[38;5;34m64\u001b[0m)          │               \u001b[38;5;34m0\u001b[0m │\n",
              "├──────────────────────────────────────┼─────────────────────────────┼─────────────────┤\n",
              "│ flatten (\u001b[38;5;33mFlatten\u001b[0m)                    │ (\u001b[38;5;45mNone\u001b[0m, \u001b[38;5;34m14400\u001b[0m)               │               \u001b[38;5;34m0\u001b[0m │\n",
              "├──────────────────────────────────────┼─────────────────────────────┼─────────────────┤\n",
              "│ dense (\u001b[38;5;33mDense\u001b[0m)                        │ (\u001b[38;5;45mNone\u001b[0m, \u001b[38;5;34m64\u001b[0m)                  │         \u001b[38;5;34m921,664\u001b[0m │\n",
              "├──────────────────────────────────────┼─────────────────────────────┼─────────────────┤\n",
              "│ dense_1 (\u001b[38;5;33mDense\u001b[0m)                      │ (\u001b[38;5;45mNone\u001b[0m, \u001b[38;5;34m100\u001b[0m)                 │           \u001b[38;5;34m6,500\u001b[0m │\n",
              "└──────────────────────────────────────┴─────────────────────────────┴─────────────────┘\n"
            ],
            "text/html": [
              "<pre style=\"white-space:pre;overflow-x:auto;line-height:normal;font-family:Menlo,'DejaVu Sans Mono',consolas,'Courier New',monospace\">┏━━━━━━━━━━━━━━━━━━━━━━━━━━━━━━━━━━━━━━┳━━━━━━━━━━━━━━━━━━━━━━━━━━━━━┳━━━━━━━━━━━━━━━━━┓\n",
              "┃<span style=\"font-weight: bold\"> Layer (type)                         </span>┃<span style=\"font-weight: bold\"> Output Shape                </span>┃<span style=\"font-weight: bold\">         Param # </span>┃\n",
              "┡━━━━━━━━━━━━━━━━━━━━━━━━━━━━━━━━━━━━━━╇━━━━━━━━━━━━━━━━━━━━━━━━━━━━━╇━━━━━━━━━━━━━━━━━┩\n",
              "│ conv2d (<span style=\"color: #0087ff; text-decoration-color: #0087ff\">Conv2D</span>)                      │ (<span style=\"color: #00d7ff; text-decoration-color: #00d7ff\">None</span>, <span style=\"color: #00af00; text-decoration-color: #00af00\">31</span>, <span style=\"color: #00af00; text-decoration-color: #00af00\">31</span>, <span style=\"color: #00af00; text-decoration-color: #00af00\">64</span>)          │             <span style=\"color: #00af00; text-decoration-color: #00af00\">832</span> │\n",
              "├──────────────────────────────────────┼─────────────────────────────┼─────────────────┤\n",
              "│ max_pooling2d (<span style=\"color: #0087ff; text-decoration-color: #0087ff\">MaxPooling2D</span>)         │ (<span style=\"color: #00d7ff; text-decoration-color: #00d7ff\">None</span>, <span style=\"color: #00af00; text-decoration-color: #00af00\">15</span>, <span style=\"color: #00af00; text-decoration-color: #00af00\">15</span>, <span style=\"color: #00af00; text-decoration-color: #00af00\">64</span>)          │               <span style=\"color: #00af00; text-decoration-color: #00af00\">0</span> │\n",
              "├──────────────────────────────────────┼─────────────────────────────┼─────────────────┤\n",
              "│ flatten (<span style=\"color: #0087ff; text-decoration-color: #0087ff\">Flatten</span>)                    │ (<span style=\"color: #00d7ff; text-decoration-color: #00d7ff\">None</span>, <span style=\"color: #00af00; text-decoration-color: #00af00\">14400</span>)               │               <span style=\"color: #00af00; text-decoration-color: #00af00\">0</span> │\n",
              "├──────────────────────────────────────┼─────────────────────────────┼─────────────────┤\n",
              "│ dense (<span style=\"color: #0087ff; text-decoration-color: #0087ff\">Dense</span>)                        │ (<span style=\"color: #00d7ff; text-decoration-color: #00d7ff\">None</span>, <span style=\"color: #00af00; text-decoration-color: #00af00\">64</span>)                  │         <span style=\"color: #00af00; text-decoration-color: #00af00\">921,664</span> │\n",
              "├──────────────────────────────────────┼─────────────────────────────┼─────────────────┤\n",
              "│ dense_1 (<span style=\"color: #0087ff; text-decoration-color: #0087ff\">Dense</span>)                      │ (<span style=\"color: #00d7ff; text-decoration-color: #00d7ff\">None</span>, <span style=\"color: #00af00; text-decoration-color: #00af00\">100</span>)                 │           <span style=\"color: #00af00; text-decoration-color: #00af00\">6,500</span> │\n",
              "└──────────────────────────────────────┴─────────────────────────────┴─────────────────┘\n",
              "</pre>\n"
            ]
          },
          "metadata": {}
        },
        {
          "output_type": "display_data",
          "data": {
            "text/plain": [
              "\u001b[1m Total params: \u001b[0m\u001b[38;5;34m928,996\u001b[0m (3.54 MB)\n"
            ],
            "text/html": [
              "<pre style=\"white-space:pre;overflow-x:auto;line-height:normal;font-family:Menlo,'DejaVu Sans Mono',consolas,'Courier New',monospace\"><span style=\"font-weight: bold\"> Total params: </span><span style=\"color: #00af00; text-decoration-color: #00af00\">928,996</span> (3.54 MB)\n",
              "</pre>\n"
            ]
          },
          "metadata": {}
        },
        {
          "output_type": "display_data",
          "data": {
            "text/plain": [
              "\u001b[1m Trainable params: \u001b[0m\u001b[38;5;34m928,996\u001b[0m (3.54 MB)\n"
            ],
            "text/html": [
              "<pre style=\"white-space:pre;overflow-x:auto;line-height:normal;font-family:Menlo,'DejaVu Sans Mono',consolas,'Courier New',monospace\"><span style=\"font-weight: bold\"> Trainable params: </span><span style=\"color: #00af00; text-decoration-color: #00af00\">928,996</span> (3.54 MB)\n",
              "</pre>\n"
            ]
          },
          "metadata": {}
        },
        {
          "output_type": "display_data",
          "data": {
            "text/plain": [
              "\u001b[1m Non-trainable params: \u001b[0m\u001b[38;5;34m0\u001b[0m (0.00 B)\n"
            ],
            "text/html": [
              "<pre style=\"white-space:pre;overflow-x:auto;line-height:normal;font-family:Menlo,'DejaVu Sans Mono',consolas,'Courier New',monospace\"><span style=\"font-weight: bold\"> Non-trainable params: </span><span style=\"color: #00af00; text-decoration-color: #00af00\">0</span> (0.00 B)\n",
              "</pre>\n"
            ]
          },
          "metadata": {}
        }
      ],
      "source": [
        "from tensorflow.keras.models import Sequential\n",
        "from tensorflow.keras.layers import Conv2D, MaxPooling2D, Flatten, Dense\n",
        "\n",
        "model = Sequential()\n",
        "\n",
        "# Convolutional Layer\n",
        "model.add(Conv2D(64, (2, 2), activation='relu', input_shape=(32, 32, 3)))\n",
        "\n",
        "# MaxPooling layer\n",
        "model.add(MaxPooling2D(pool_size=(2, 2)))\n",
        "\n",
        "\n",
        "# Flatten to 1D\n",
        "model.add(Flatten())\n",
        "\n",
        "# Hidden Dense layer\n",
        "model.add(Dense(64, activation='relu'))\n",
        "\n",
        "# Output layer\n",
        "model.add(Dense(100, activation='softmax'))\n",
        "\n",
        "# Model summary\n",
        "model.summary()"
      ]
    },
    {
      "cell_type": "markdown",
      "id": "546324c007c73db5",
      "metadata": {
        "collapsed": false,
        "id": "546324c007c73db5"
      },
      "source": [
        "### Task 2b: Compile the model\n",
        "\n",
        "- Select an appropriate loss function and optimizer for your model. These can be ones we have looked at already, or they can be different.\n",
        "- Briefly explain your choices (one or two sentences each).\n",
        "- <b>Loss function:</b> categorical crossentropy as it works well for multi-class problems\n",
        "- <b>Optimizer:</b> Adam optimizer, as its learning rate is auto-tuned."
      ]
    },
    {
      "cell_type": "code",
      "execution_count": 21,
      "id": "ab39f4ba69d684e9",
      "metadata": {
        "id": "ab39f4ba69d684e9"
      },
      "outputs": [],
      "source": [
        "# Compile the model\n",
        "model.compile(\n",
        "    loss='categorical_crossentropy', # Loss function\n",
        "    optimizer='adam', # Optimizer\n",
        "    metrics=['accuracy'] # Metrics to evaluate the model\n",
        ")"
      ]
    },
    {
      "cell_type": "markdown",
      "id": "653fba928413b9f6",
      "metadata": {
        "collapsed": false,
        "id": "653fba928413b9f6"
      },
      "source": [
        "## Task 3: Model Training and Evaluation (Complete or Incomplete)\n",
        "### Task 3a: Train the Model\n",
        "\n",
        "- Train your model for an appropriate number of epochs. Explain your choice of the number of epochs used - you can change this number before submitting your assignment.\n",
        "- Use a batch size of 32.\n",
        "- Use the validation set for validation."
      ]
    },
    {
      "cell_type": "code",
      "execution_count": 22,
      "id": "9de74f274ad08546",
      "metadata": {
        "id": "9de74f274ad08546",
        "colab": {
          "base_uri": "https://localhost:8080/"
        },
        "outputId": "712da9bd-80bb-496b-eb06-d3a325ac8abb"
      },
      "outputs": [
        {
          "output_type": "stream",
          "name": "stdout",
          "text": [
            "Epoch 1/15\n",
            "\u001b[1m1000/1000\u001b[0m \u001b[32m━━━━━━━━━━━━━━━━━━━━\u001b[0m\u001b[37m\u001b[0m \u001b[1m43s\u001b[0m 41ms/step - accuracy: 0.0370 - loss: 4.4188 - val_accuracy: 0.1200 - val_loss: 3.7804\n",
            "Epoch 2/15\n",
            "\u001b[1m1000/1000\u001b[0m \u001b[32m━━━━━━━━━━━━━━━━━━━━\u001b[0m\u001b[37m\u001b[0m \u001b[1m80s\u001b[0m 39ms/step - accuracy: 0.1295 - loss: 3.6942 - val_accuracy: 0.1567 - val_loss: 3.5286\n",
            "Epoch 3/15\n",
            "\u001b[1m1000/1000\u001b[0m \u001b[32m━━━━━━━━━━━━━━━━━━━━\u001b[0m\u001b[37m\u001b[0m \u001b[1m41s\u001b[0m 39ms/step - accuracy: 0.1771 - loss: 3.4223 - val_accuracy: 0.1750 - val_loss: 3.4288\n",
            "Epoch 4/15\n",
            "\u001b[1m1000/1000\u001b[0m \u001b[32m━━━━━━━━━━━━━━━━━━━━\u001b[0m\u001b[37m\u001b[0m \u001b[1m42s\u001b[0m 42ms/step - accuracy: 0.2019 - loss: 3.2850 - val_accuracy: 0.1874 - val_loss: 3.3499\n",
            "Epoch 5/15\n",
            "\u001b[1m1000/1000\u001b[0m \u001b[32m━━━━━━━━━━━━━━━━━━━━\u001b[0m\u001b[37m\u001b[0m \u001b[1m80s\u001b[0m 40ms/step - accuracy: 0.2168 - loss: 3.1784 - val_accuracy: 0.2026 - val_loss: 3.2874\n",
            "Epoch 6/15\n",
            "\u001b[1m1000/1000\u001b[0m \u001b[32m━━━━━━━━━━━━━━━━━━━━\u001b[0m\u001b[37m\u001b[0m \u001b[1m41s\u001b[0m 41ms/step - accuracy: 0.2291 - loss: 3.1183 - val_accuracy: 0.2107 - val_loss: 3.2723\n",
            "Epoch 7/15\n",
            "\u001b[1m1000/1000\u001b[0m \u001b[32m━━━━━━━━━━━━━━━━━━━━\u001b[0m\u001b[37m\u001b[0m \u001b[1m39s\u001b[0m 39ms/step - accuracy: 0.2434 - loss: 3.0308 - val_accuracy: 0.2198 - val_loss: 3.2166\n",
            "Epoch 8/15\n",
            "\u001b[1m1000/1000\u001b[0m \u001b[32m━━━━━━━━━━━━━━━━━━━━\u001b[0m\u001b[37m\u001b[0m \u001b[1m41s\u001b[0m 39ms/step - accuracy: 0.2532 - loss: 2.9789 - val_accuracy: 0.2157 - val_loss: 3.1970\n",
            "Epoch 9/15\n",
            "\u001b[1m1000/1000\u001b[0m \u001b[32m━━━━━━━━━━━━━━━━━━━━\u001b[0m\u001b[37m\u001b[0m \u001b[1m41s\u001b[0m 38ms/step - accuracy: 0.2676 - loss: 2.9209 - val_accuracy: 0.2239 - val_loss: 3.1957\n",
            "Epoch 10/15\n",
            "\u001b[1m1000/1000\u001b[0m \u001b[32m━━━━━━━━━━━━━━━━━━━━\u001b[0m\u001b[37m\u001b[0m \u001b[1m45s\u001b[0m 43ms/step - accuracy: 0.2740 - loss: 2.8701 - val_accuracy: 0.2280 - val_loss: 3.1618\n",
            "Epoch 11/15\n",
            "\u001b[1m1000/1000\u001b[0m \u001b[32m━━━━━━━━━━━━━━━━━━━━\u001b[0m\u001b[37m\u001b[0m \u001b[1m78s\u001b[0m 39ms/step - accuracy: 0.2879 - loss: 2.8258 - val_accuracy: 0.2307 - val_loss: 3.1868\n",
            "Epoch 12/15\n",
            "\u001b[1m1000/1000\u001b[0m \u001b[32m━━━━━━━━━━━━━━━━━━━━\u001b[0m\u001b[37m\u001b[0m \u001b[1m41s\u001b[0m 39ms/step - accuracy: 0.2934 - loss: 2.7898 - val_accuracy: 0.2406 - val_loss: 3.1345\n",
            "Epoch 13/15\n",
            "\u001b[1m1000/1000\u001b[0m \u001b[32m━━━━━━━━━━━━━━━━━━━━\u001b[0m\u001b[37m\u001b[0m \u001b[1m40s\u001b[0m 38ms/step - accuracy: 0.3040 - loss: 2.7321 - val_accuracy: 0.2316 - val_loss: 3.1824\n",
            "Epoch 14/15\n",
            "\u001b[1m1000/1000\u001b[0m \u001b[32m━━━━━━━━━━━━━━━━━━━━\u001b[0m\u001b[37m\u001b[0m \u001b[1m41s\u001b[0m 38ms/step - accuracy: 0.3167 - loss: 2.6863 - val_accuracy: 0.2428 - val_loss: 3.1405\n",
            "Epoch 15/15\n",
            "\u001b[1m1000/1000\u001b[0m \u001b[32m━━━━━━━━━━━━━━━━━━━━\u001b[0m\u001b[37m\u001b[0m \u001b[1m40s\u001b[0m 40ms/step - accuracy: 0.3198 - loss: 2.6341 - val_accuracy: 0.2491 - val_loss: 3.1165\n"
          ]
        }
      ],
      "source": [
        "# Train the model by using the fit method\n",
        "history = model.fit(\n",
        "    x_train, # Training data\n",
        "    y_train, # Training labels\n",
        "    epochs=15, # Number of epochs, epochs 15 is used as accuracy is got better with this number\n",
        "    batch_size=32, # Number of samples per batch\n",
        "    validation_split=0.2 # Use 20% of the data for validation\n",
        ")"
      ]
    },
    {
      "cell_type": "markdown",
      "id": "b48615c26b99d2e9",
      "metadata": {
        "collapsed": false,
        "id": "b48615c26b99d2e9"
      },
      "source": [
        "### Task 3b: Accuracy and other relevant metrics on the test set\n",
        "\n",
        "- Report the accuracy of your model on the test set.\n",
        "- While accuracy is a good metric, there are many other ways to numerically evaluate a model. Report at least one other metric, and explain what it measures and how it is calculated.\n",
        "\n",
        "- <b>Accuracy:</b> 24.20%\n",
        "- <b>Other metric:</b> ROC-AUC\n",
        "- <b>Reason for selection:</b> Its one of the metrics available for multi-class problems\n",
        "- <b>Value of metric:</b> 0.90\n",
        "- <b>Interpretation of metric value:</b> It measures how well the model distinguishes the different classes."
      ]
    },
    {
      "cell_type": "code",
      "execution_count": 23,
      "id": "f670665fda92fb0e",
      "metadata": {
        "ExecuteTime": {
          "end_time": "2024-01-26T17:49:39.016880Z",
          "start_time": "2024-01-26T17:49:39.012100Z"
        },
        "id": "f670665fda92fb0e",
        "colab": {
          "base_uri": "https://localhost:8080/"
        },
        "outputId": "011b478b-5e37-4f88-efed-977d54ea6e8c"
      },
      "outputs": [
        {
          "output_type": "stream",
          "name": "stdout",
          "text": [
            "\u001b[1m313/313\u001b[0m \u001b[32m━━━━━━━━━━━━━━━━━━━━\u001b[0m\u001b[37m\u001b[0m \u001b[1m4s\u001b[0m 12ms/step - accuracy: 0.2458 - loss: 3.1154\n",
            "\u001b[1m313/313\u001b[0m \u001b[32m━━━━━━━━━━━━━━━━━━━━\u001b[0m\u001b[37m\u001b[0m \u001b[1m3s\u001b[0m 9ms/step\n",
            "Loss:     3.13\n",
            "Accuracy: 24.20%\n",
            "ROC-AUC:  0.90\n"
          ]
        }
      ],
      "source": [
        "# Your Code Here\n",
        "from sklearn.metrics import roc_auc_score\n",
        "\n",
        "loss, accuracy = model.evaluate(x_test, y_test)\n",
        "\n",
        "# Get predicted probabilities for the test set\n",
        "y_pred_probs = model.predict(x_test)\n",
        "\n",
        "# Calculate ROC-AUC\n",
        "roc_auc = roc_auc_score(y_test, y_pred_probs) # ovr for multi-class\n",
        "\n",
        "\n",
        "print(f'Loss:     {loss:.2f}')\n",
        "print(f'Accuracy: {accuracy*100:.2f}%')\n",
        "print(f'ROC-AUC:  {roc_auc:.2f}')"
      ]
    },
    {
      "cell_type": "markdown",
      "id": "58d2d836d4e8ce99",
      "metadata": {
        "collapsed": false,
        "id": "58d2d836d4e8ce99"
      },
      "source": [
        "### Task 3c: Visualize the model's learning\n",
        "\n",
        "- Plot the training accuracy and validation accuracy with respect to epochs.\n",
        "- Select an image that the model correctly classified in the test set, and an image that the model incorrectly classified in the test set. Plot the images and report the model's classification probabilities for each.\n",
        "- Briefly discuss the results. What do the plots show? Do the results make sense? What do the classification probabilities indicate?"
      ]
    },
    {
      "cell_type": "code",
      "execution_count": 28,
      "id": "c5b214475a496ca5",
      "metadata": {
        "ExecuteTime": {
          "end_time": "2024-01-26T17:50:59.733968Z",
          "start_time": "2024-01-26T17:50:59.730635Z"
        },
        "id": "c5b214475a496ca5",
        "colab": {
          "base_uri": "https://localhost:8080/",
          "height": 452
        },
        "outputId": "491854d6-3bb0-480b-e7d6-da3b5fc0e975"
      },
      "outputs": [
        {
          "output_type": "display_data",
          "data": {
            "text/plain": [
              "<Figure size 640x480 with 1 Axes>"
            ],
            "image/png": "[encoded data removed]"
          },
          "metadata": {}
        }
      ],
      "source": [
        "%matplotlib inline\n",
        "import matplotlib.pyplot as plt\n",
        "\n",
        "plt.plot(history.history['accuracy'], label='train')\n",
        "plt.plot(history.history['val_accuracy'], label='validation')\n",
        "plt.ylim(0,0.5)\n",
        "plt.legend(loc='best')\n",
        "plt.title('Accuracy');"
      ]
    },
    {
      "cell_type": "code",
      "source": [
        "import numpy as np\n",
        "# Get the predictions for the test data\n",
        "predictions = model.predict(x_test)\n",
        "predictions"
      ],
      "metadata": {
        "colab": {
          "base_uri": "https://localhost:8080/"
        },
        "id": "Lc9ZEaNxI63x",
        "outputId": "d2dc44c1-802a-4b93-9018-601a0d7397dd"
      },
      "id": "Lc9ZEaNxI63x",
      "execution_count": 34,
      "outputs": [
        {
          "output_type": "stream",
          "name": "stdout",
          "text": [
            "\u001b[1m313/313\u001b[0m \u001b[32m━━━━━━━━━━━━━━━━━━━━\u001b[0m\u001b[37m\u001b[0m \u001b[1m4s\u001b[0m 13ms/step\n"
          ]
        },
        {
          "output_type": "execute_result",
          "data": {
            "text/plain": [
              "array([[2.2690441e-05, 4.5056935e-04, 3.6323599e-03, ..., 5.4323156e-03,\n",
              "        7.0233247e-04, 4.4070696e-03],\n",
              "       [6.9300862e-05, 3.5998246e-03, 3.3264293e-03, ..., 1.1193793e-02,\n",
              "        4.0543717e-04, 1.7576127e-03],\n",
              "       [3.9833033e-08, 1.8391140e-05, 1.3907453e-04, ..., 7.5345050e-04,\n",
              "        1.0097288e-04, 2.9589178e-04],\n",
              "       ...,\n",
              "       [8.8046785e-05, 1.2454421e-02, 1.2262282e-05, ..., 4.0672505e-05,\n",
              "        4.2517299e-06, 2.2499214e-04],\n",
              "       [7.2074886e-06, 1.9794812e-03, 1.0585391e-02, ..., 1.5513619e-02,\n",
              "        1.5131800e-03, 1.6109599e-03],\n",
              "       [2.6139496e-03, 5.5086622e-03, 1.4106163e-03, ..., 3.2996836e-09,\n",
              "        2.0842894e-04, 2.1557424e-05]], dtype=float32)"
            ]
          },
          "metadata": {},
          "execution_count": 34
        }
      ]
    },
    {
      "cell_type": "code",
      "source": [
        "# Get the index of the largest probability (i.e. the predicted class)\n",
        "predicted_classes = np.argmax(predictions, axis=1)\n",
        "predicted_classes\n",
        "predicted_classes.shape"
      ],
      "metadata": {
        "colab": {
          "base_uri": "https://localhost:8080/"
        },
        "id": "8Qy0orzWJMT8",
        "outputId": "32d23e23-9936-4324-9ffb-e42037ba477e"
      },
      "id": "8Qy0orzWJMT8",
      "execution_count": 36,
      "outputs": [
        {
          "output_type": "execute_result",
          "data": {
            "text/plain": [
              "(10000,)"
            ]
          },
          "metadata": {},
          "execution_count": 36
        }
      ]
    },
    {
      "cell_type": "code",
      "source": [
        "true_classes = np.argmax(y_test, axis=1)\n",
        "true_classes.shape"
      ],
      "metadata": {
        "colab": {
          "base_uri": "https://localhost:8080/"
        },
        "id": "US0AG9aUJU6k",
        "outputId": "66719bcd-b7f2-4531-b62c-083763541073"
      },
      "id": "US0AG9aUJU6k",
      "execution_count": 38,
      "outputs": [
        {
          "output_type": "execute_result",
          "data": {
            "text/plain": [
              "(10000,)"
            ]
          },
          "metadata": {},
          "execution_count": 38
        }
      ]
    },
    {
      "cell_type": "code",
      "source": [
        "misclassified_indices = np.where(predicted_classes != true_classes)[0]\n",
        "\n",
        "misclassified_indices"
      ],
      "metadata": {
        "colab": {
          "base_uri": "https://localhost:8080/"
        },
        "id": "-D3W7TB5HA9H",
        "outputId": "98885b9a-569e-468d-d5cc-fdbc595324f4"
      },
      "id": "-D3W7TB5HA9H",
      "execution_count": 39,
      "outputs": [
        {
          "output_type": "execute_result",
          "data": {
            "text/plain": [
              "array([   0,    1,    2, ..., 9996, 9997, 9998])"
            ]
          },
          "metadata": {},
          "execution_count": 39
        }
      ]
    },
    {
      "cell_type": "code",
      "source": [
        "correctlyclassified_indices = np.where(predicted_classes == true_classes)[0]\n",
        "correctlyclassified_indices"
      ],
      "metadata": {
        "colab": {
          "base_uri": "https://localhost:8080/"
        },
        "id": "BXl-reqkJhXi",
        "outputId": "22b1f193-973a-4e6e-d246-0cae8e773801"
      },
      "id": "BXl-reqkJhXi",
      "execution_count": 42,
      "outputs": [
        {
          "output_type": "execute_result",
          "data": {
            "text/plain": [
              "array([   4,   12,   14, ..., 9986, 9993, 9999])"
            ]
          },
          "metadata": {},
          "execution_count": 42
        }
      ]
    },
    {
      "cell_type": "code",
      "source": [
        "import numpy as np\n",
        "\n",
        "# Select one misclassified sample\n",
        "misclassified_index = misclassified_indices[0]\n",
        "misclassified_sample = x_test[misclassified_index]\n",
        "misclassified_label = np.argmax(y_test[misclassified_index])\n",
        "misclassified_pred = predicted_classes[misclassified_index]\n",
        "\n",
        "# Convert indices to class names\n",
        "misclassified_label = class_names[misclassified_label]\n",
        "misclassified_pred = class_names[misclassified_pred]\n",
        "\n",
        "# Select one correctly classified sample\n",
        "correctlyclassified_index = correctlyclassified_indices[0]\n",
        "correctlyclassified_sample = x_test[correctlyclassified_index]\n",
        "correctlyclassified_label = np.argmax(y_test[correctlyclassified_index])\n",
        "correctlyclassified_pred = predicted_classes[correctlyclassified_index]\n",
        "\n",
        "# Convert indices to class names\n",
        "correctlyclassified_label = class_names[correctlyclassified_label]\n",
        "correctlyclassified_pred = class_names[correctlyclassified_pred]\n",
        "\n",
        "# Plot both images side by side\n",
        "fig, axes = plt.subplots(1, 2, figsize=(6, 3))\n",
        "\n",
        "# Misclassified Image (In Color)\n",
        "axes[0].imshow(misclassified_sample.reshape(32, 32, 3), interpolation='bicubic')\n",
        "axes[0].set_title(f\"Pred: {misclassified_pred}, Real: {misclassified_label}\", fontsize=12)\n",
        "axes[0].axis(\"off\")\n",
        "\n",
        "# Correctly Classified Image (In Color)\n",
        "axes[1].imshow(correctlyclassified_sample.reshape(32, 32, 3), interpolation='bicubic')\n",
        "axes[1].set_title(f\"Pred: {correctlyclassified_pred}, Real: {correctlyclassified_label}\", fontsize=12)\n",
        "axes[1].axis(\"off\")\n",
        "\n",
        "plt.tight_layout()\n",
        "plt.show()\n"
      ],
      "metadata": {
        "id": "x692CU70SpSM",
        "outputId": "684ecde3-858c-4306-ca1e-29fd146c7429",
        "colab": {
          "base_uri": "https://localhost:8080/",
          "height": 316
        }
      },
      "id": "x692CU70SpSM",
      "execution_count": 86,
      "outputs": [
        {
          "output_type": "display_data",
          "data": {
            "text/plain": [
              "<Figure size 600x300 with 2 Axes>"
            ],
            "image/png": "[encoded data removed]"
          },
          "metadata": {}
        }
      ]
    },
    {
      "cell_type": "markdown",
      "source": [
        "The plots show that the image is not clear where the model has wrongly predicted.The results do make sense as a human might have made a mistake in this case.The classification probability indicates how confident the model is in that class being the predicted class."
      ],
      "metadata": {
        "id": "r8BYEAgA8mfH"
      },
      "id": "r8BYEAgA8mfH"
    },
    {
      "cell_type": "code",
      "source": [],
      "metadata": {
        "id": "S66rBeFt8laZ"
      },
      "id": "S66rBeFt8laZ",
      "execution_count": null,
      "outputs": []
    },
    {
      "cell_type": "markdown",
      "id": "a648758ebea0561d",
      "metadata": {
        "collapsed": false,
        "id": "a648758ebea0561d"
      },
      "source": [
        "## Task 4: Model Enhancement (Complete or Incomplete)\n",
        "### Task 4a: Implementation of at least one advanced technique\n",
        "\n",
        "- Now it's time to improve your model. Implement at least one technique to improve your model's performance. You can use any of the techniques we have covered in class, or you can use a technique that we haven't covered. If you need inspiration, you can refer to the [Keras documentation](https://keras.io/).\n",
        "- Explain the technique you used and why you chose it.\n",
        "- If you used a technique that requires tuning, explain how you selected the values for the hyperparameters."
      ]
    },
    {
      "cell_type": "code",
      "execution_count": null,
      "id": "f3659ac83122567f",
      "metadata": {
        "id": "f3659ac83122567f"
      },
      "outputs": [],
      "source": [
        "# Your Code Here"
      ]
    },
    {
      "cell_type": "markdown",
      "id": "d9467a483a1dd5d3",
      "metadata": {
        "collapsed": false,
        "id": "d9467a483a1dd5d3"
      },
      "source": [
        "### Task 4b: Evaluation of the enhanced model\n",
        "\n",
        "- Re-train your model using the same number of epochs as before.\n",
        "- Compare the accuracy and other selected metric on the test set to the results you obtained before.\n",
        "- As before, plot the training accuracy and validation accuracy with respect to epochs, and select an image that the model correctly classified in the test set, and an image that the model incorrectly classified in the test set. Plot the images and report the model's classification probabilities for each."
      ]
    },
    {
      "cell_type": "code",
      "execution_count": null,
      "id": "7c4701b36dc8fc55",
      "metadata": {
        "id": "7c4701b36dc8fc55"
      },
      "outputs": [],
      "source": [
        "# Your Code Here"
      ]
    },
    {
      "cell_type": "markdown",
      "id": "eadfc848700215e8",
      "metadata": {
        "collapsed": false,
        "id": "eadfc848700215e8"
      },
      "source": [
        "### Task 4c: Discussion of the results\n",
        "\n",
        "- Briefly discuss the results.\n",
        "- Did the model's performance improve?\n",
        "- Why do you think this is?\n",
        "- Do you think there is room for further improvement? Why or why not?\n",
        "- What other techniques might you try in the future?\n",
        "- Your answer should be no more than 200 words.\n",
        "\n",
        "# Your answer here"
      ]
    },
    {
      "cell_type": "markdown",
      "id": "7415f68f",
      "metadata": {
        "id": "7415f68f"
      },
      "source": [
        "## Criteria\n",
        "\n",
        "|Criteria|Complete|Incomplete|\n",
        "|----|----|----|\n",
        "|Task 1|The task has been completed successfully and there are no errors.|The task is still incomplete and there is at least one error.|\n",
        "|Task 2|The task has been completed successfully and there are no errors.|The task is still incomplete and there is at least one error.|\n",
        "|Task 3|The task has been completed successfully and there are no errors.|The task is still incomplete and there is at least one error.|\n",
        "|Task 4|The task has been completed successfully and there are no errors.|The task is still incomplete and there is at least one error.|"
      ]
    },
    {
      "cell_type": "markdown",
      "id": "ad0c10bc",
      "metadata": {
        "id": "ad0c10bc"
      },
      "source": [
        "## Submission Information\n",
        "\n",
        "🚨 **Please review our [Assignment Submission Guide](https://github.com/UofT-DSI/onboarding/blob/main/onboarding_documents/submissions.md)** 🚨 for detailed instructions on how to format, branch, and submit your work. Following these guidelines is crucial for your submissions to be evaluated correctly.\n",
        "\n",
        "### Submission Parameters:\n",
        "* Submission Due Date: `HH:MM AM/PM - DD/MM/YYYY`\n",
        "* The branch name for your repo should be: `assignment-1`\n",
        "* What to submit for this assignment:\n",
        "    * This Jupyter Notebook (assignment_1.ipynb) should be populated and should be the only change in your pull request.\n",
        "* What the pull request link should look like for this assignment: `https://github.com/<your_github_username>/deep_learning/pull/<pr_id>`\n",
        "    * Open a private window in your browser. Copy and paste the link to your pull request into the address bar. Make sure you can see your pull request properly. This helps the technical facilitator and learning support staff review your submission easily.\n",
        "\n",
        "Checklist:\n",
        "- [ ] Created a branch with the correct naming convention.\n",
        "- [ ] Ensured that the repository is public.\n",
        "- [ ] Reviewed the PR description guidelines and adhered to them.\n",
        "- [ ] Verify that the link is accessible in a private browser window.\n",
        "\n",
        "If you encounter any difficulties or have questions, please don't hesitate to reach out to our team via our Slack at `#cohort-3-help`. Our Technical Facilitators and Learning Support staff are here to help you navigate any challenges."
      ]
    }
  ],
  "metadata": {
    "kernelspec": {
      "display_name": "lab_1",
      "language": "python",
      "name": "python3"
    },
    "language_info": {
      "codemirror_mode": {
        "name": "ipython",
        "version": 3
      },
      "file_extension": ".py",
      "mimetype": "text/x-python",
      "name": "python",
      "nbconvert_exporter": "python",
      "pygments_lexer": "ipython3",
      "version": "3.12.9"
    },
    "colab": {
      "provenance": []
    }
  },
  "nbformat": 4,
  "nbformat_minor": 5
}